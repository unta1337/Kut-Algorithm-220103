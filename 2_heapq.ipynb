{
 "cells": [
  {
   "cell_type": "code",
   "execution_count": 48,
   "metadata": {},
   "outputs": [],
   "source": [
    "import heapq"
   ]
  },
  {
   "cell_type": "code",
   "execution_count": 49,
   "metadata": {},
   "outputs": [],
   "source": [
    "# psort: priority queue sort\n",
    "def psort(lst):\n",
    "    sorted = []             # 정렬된 원소를 저장할 리스트.\n",
    "    heapq.heapify(lst)      # 정렬을 위해 lst를 최소 힙으로 변환.\n",
    "\n",
    "    # 힙으로 변환된 lst의 원소의 개수가 0이 될 때까지 lst에서 원소 추출.\n",
    "    while len(lst) > 0:\n",
    "        sorted.append(heapq.heappop(lst))\n",
    "\n",
    "    return sorted"
   ]
  },
  {
   "cell_type": "code",
   "execution_count": 50,
   "metadata": {},
   "outputs": [],
   "source": [
    "def main():\n",
    "    lst = list(map(int, input().split(' ')))    # 사용자로부터 리스트 입력 받기.\n",
    "    print(f'Original List: {lst}')\n",
    "\n",
    "    lst = psort(lst)                            # 우선순위 큐를 이용한 정렬 수행.\n",
    "    print(f'Sorted List: {lst}')"
   ]
  },
  {
   "cell_type": "code",
   "execution_count": null,
   "metadata": {},
   "outputs": [],
   "source": [
    "if __name__ == '__main__':\n",
    "    main()"
   ]
  }
 ],
 "metadata": {
  "interpreter": {
   "hash": "28e7252bb197b80a4c14600a7c3173048170a63593e4c62a20de20fd3f2580fc"
  },
  "kernelspec": {
   "display_name": "Python 3.10.1 64-bit",
   "language": "python",
   "name": "python3"
  },
  "language_info": {
   "codemirror_mode": {
    "name": "ipython",
    "version": 3
   },
   "file_extension": ".py",
   "mimetype": "text/x-python",
   "name": "python",
   "nbconvert_exporter": "python",
   "pygments_lexer": "ipython3",
   "version": "3.10.1"
  },
  "orig_nbformat": 4
 },
 "nbformat": 4,
 "nbformat_minor": 2
}
