{
 "cells": [
  {
   "cell_type": "code",
   "execution_count": null,
   "metadata": {},
   "outputs": [],
   "source": [
    "def main():\n",
    "    # 교재 3장 연습문제 11번 (p. 134)\n",
    "    print('# 교재 3장 연습문제 11번 (p. 134)')\n",
    "\n",
    "    string = 'ADBAAEDBA'\n",
    "    brute = count_substring(string, 'A', 'B')\n",
    "    improved = count_substring_improved(string, 'A', 'B')\n",
    "\n",
    "    print(f'string: {string}')\n",
    "    print(f'brute force: {brute}')\n",
    "    print(f'improved: {improved}\\n')\n",
    "\n",
    "    # 브루트 포싱과 개선된 알고리즘이 서로 같은 결과를 출력하는지 확인.\n",
    "    print('# 브루트 포싱과 개선된 알고리즘이 서로 같은 결과를 출력하는지 확인.')\n",
    "\n",
    "    all_correct = True\n",
    "\n",
    "    for _ in range(100):\n",
    "        string = get_random_string_A_to_E(100)\n",
    "        brute = count_substring(string, 'A', 'B')\n",
    "        improved = count_substring_improved(string, 'A', 'B')\n",
    "\n",
    "        if brute != improved:\n",
    "            all_correct = False\n",
    "\n",
    "        # print(f'string: {string}')\n",
    "        # print(f'brute force: {brute}')\n",
    "        # print(f'improved: {improved}\\n')\n",
    "\n",
    "    print(f'is everything ok? {all_correct}')"
   ]
  },
  {
   "cell_type": "code",
   "execution_count": null,
   "metadata": {},
   "outputs": [],
   "source": [
    "import random\n",
    "\n",
    "# A부터 E를 사용한 길이가 n인 무작위 문자열 반환.\n",
    "def get_random_string_A_to_E(n):\n",
    "    char_list = [chr(i) for i in range(ord('A'), ord('Z') + 1)]\n",
    "    string = ''\n",
    "\n",
    "    for i in range(n):\n",
    "        index = random.randint(0, ord('E') - ord('A'))\n",
    "        string += char_list[index]\n",
    "    \n",
    "    return string\n",
    "\n",
    "# 특정 원소와 같거나 큰 최초의 원소의 인덱스를 반환.\n",
    "def bin_search(arr, target):\n",
    "    return __bin_search(arr, 0, len(arr) - 1, target)\n",
    "\n",
    "def __bin_search(arr, l, r, target):\n",
    "    if l <= r:\n",
    "        m = (l + r) // 2\n",
    "        if arr[m] == target:\n",
    "            while m >= 0 and arr[m] == target:\n",
    "                m -= 1\n",
    "            return m + 1\n",
    "        elif arr[m] < target:\n",
    "            return __bin_search(arr, m + 1, r, target)\n",
    "        elif arr[m] > target:\n",
    "            return __bin_search(arr, l, m - 1, target)\n",
    "    return l"
   ]
  },
  {
   "cell_type": "code",
   "execution_count": null,
   "metadata": {},
   "outputs": [],
   "source": [
    "# 교재 3장 연습문제 11번 (p. 134)\n",
    "def count_substring(string, begin, end):\n",
    "    count = 0       # 조건에 만족하는 문자열의 개수를 추적.\n",
    "\n",
    "    # 문자열을 돌며 연산 수행.\n",
    "    for i in range(len(string) - 1):\n",
    "        # 문자열에서 시작 문자를 만나면 내부 루트 시작.\n",
    "        if string[i] == begin:\n",
    "            # 시작 문자 이후부터 종결 문자가 있는지 탐색.\n",
    "            for j in range(i + 1, len(string)):\n",
    "                if string[j] == end:\n",
    "                    count += 1\n",
    "\n",
    "    return count"
   ]
  },
  {
   "cell_type": "code",
   "execution_count": null,
   "metadata": {},
   "outputs": [],
   "source": [
    "# 교재 3장 연습문제 11번 (p. 134) - 개선한 알고리즘\n",
    "def count_substring_improved(string, begin, end):\n",
    "    b_indecies = []     # 각 반복마다 문자열을 재탐색할 수 없으므로 'B'가 존재하는 인덱스 목록 생성.\n",
    "\n",
    "    # 'B'가 나타나는 인덱스 저장.\n",
    "    for i in range(len(string)):\n",
    "        if string[i] == end:\n",
    "            b_indecies.append(i)\n",
    "\n",
    "    count = 0\n",
    "    for i in range(len(string)):\n",
    "        if string[i] == begin:\n",
    "            b_index = bin_search(b_indecies, i)         # 'A'가 나타난 인덱스 이후의 'B'의 인덱스를 찾기 위해 이진탐색 수행.\n",
    "            if b_index < len(b_indecies):\n",
    "                count += len(b_indecies) - b_index      # 'A'가 나타난 이후 최초의 'B'의 인덱스를 통해, 'A' 이후에 나타나는 'B'의 개수 연산.\n",
    "\n",
    "    return count\n"
   ]
  },
  {
   "cell_type": "code",
   "execution_count": null,
   "metadata": {},
   "outputs": [],
   "source": [
    "if __name__ == '__main__':\n",
    "    main()"
   ]
  }
 ],
 "metadata": {
  "interpreter": {
   "hash": "e7370f93d1d0cde622a1f8e1c04877d8463912d04d973331ad4851f04de6915a"
  },
  "kernelspec": {
   "display_name": "Python 3.9.2 64-bit",
   "language": "python",
   "name": "python3"
  },
  "language_info": {
   "codemirror_mode": {
    "name": "ipython",
    "version": 3
   },
   "file_extension": ".py",
   "mimetype": "text/x-python",
   "name": "python",
   "nbconvert_exporter": "python",
   "pygments_lexer": "ipython3",
   "version": "3.9.2"
  },
  "orig_nbformat": 4
 },
 "nbformat": 4,
 "nbformat_minor": 2
}
