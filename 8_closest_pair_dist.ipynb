{
 "cells": [
  {
   "cell_type": "code",
   "execution_count": 31,
   "metadata": {},
   "outputs": [],
   "source": [
    "import math\n",
    "import random\n",
    "\n",
    "def main():\n",
    "    # closest_pair_dist의 n log n 개선.\n",
    "    print('# closest_pair_dist의 n log n 개선.')\n",
    "\n",
    "    # 예제 입력.\n",
    "    p = [(2, 3), (12, 30), (40, 50), (5, 1), (12, 10), (3, 4)]\n",
    "\n",
    "    # x좌표와 y좌표에 대해 정렬한 리스트 생성.\n",
    "    px = p[:]\n",
    "    px.sort(key = lambda e: e[0])\n",
    "    py = p[:]\n",
    "    py.sort(key = lambda e: e[1])\n",
    "\n",
    "    brute = closest_pair(p)\n",
    "    nlogn = closest_pair_dist(px, py, len(p))\n",
    "\n",
    "    print(f'브루트 포싱을 이용한 방법: {brute}')\n",
    "    print(f'분할정복 기법을 개선한 방법: {nlogn}')\n",
    "    print()\n",
    "\n",
    "    n = 100\n",
    "    m = 100\n",
    "\n",
    "    for _ in range(n):\n",
    "        p = []\n",
    "        for _ in range(m):\n",
    "            # 임의의 점 생성.\n",
    "            p.append((random.random() * 100, random.random() * 100))\n",
    "\n",
    "        px = p[:]\n",
    "        px.sort(key = lambda e: e[0])\n",
    "        py = p[:]\n",
    "        py.sort(key = lambda e: e[1])\n",
    "\n",
    "        brute = closest_pair(p)\n",
    "        nlogn = closest_pair_dist(px, py, len(p))\n",
    "\n",
    "        # print(brute)\n",
    "        # print(nlogn)\n",
    "        # print()\n",
    "\n",
    "        if brute != nlogn:\n",
    "            print('abort')\n",
    "            break\n",
    "    \n",
    "    print(f'서로 다른 {m}개의 점을 추출하여 {n}번 수행 완료.')"
   ]
  },
  {
   "cell_type": "code",
   "execution_count": 32,
   "metadata": {},
   "outputs": [],
   "source": [
    "# x에 대한 점들의 리스트와 y에 대한 점들의 리스트를 동시에 고려하여 점 사이 거리의 최솟값 계산.\n",
    "def closest_pair_dist(points_x, points_y, n):\n",
    "    # 점의 개수가 3개 이하이면 브루트 포싱을 이용해 최솟값 계산.\n",
    "    if n <= 3:\n",
    "        return closest_pair(points_x)\n",
    "\n",
    "    # x에 대해 정렬된 리스트를 이용하여 x좌표의 중앙값과 그 점에서의 y좌표 추출.\n",
    "    mid = n // 2\n",
    "    mid_x = points_x[mid][0]\n",
    "    mid_y = points_x[mid][1]\n",
    "\n",
    "    # x좌표를 기준으로 왼쪽과 오른쪽 부분 리스트를 생성한 것처럼 y좌표에 대해서 왼쪽과 오른쪽(또는 아래쪽과 위쪽) 부분 리스트 생성.\n",
    "    points_y_l = []\n",
    "    points_y_r = []\n",
    "    for i in range(len(points_x)):\n",
    "        point = points_y[i]\n",
    "\n",
    "        # x좌표 기준 왼쪽 리스트의 점과 기준 y좌표보다 아래쪽에 있는 점 추출.\n",
    "        if point[0] < mid_x or (point[0] == mid_x and point[1] < mid_y):\n",
    "            points_y_l.append(point)\n",
    "\n",
    "        # x좌표 기준 오른쪽 리스트의 점과 기준 y좌표보다 위쪽에 있는 점 추출.\n",
    "        else:\n",
    "            points_y_r.append(point)\n",
    "\n",
    "    dl = closest_pair_dist(points_x[:mid], points_y_l, mid)         # 왼쪽 부분 리스트에 대해서 분할정복 수행.\n",
    "    dr = closest_pair_dist(points_x[mid:], points_y_r, n - mid)     # 오른쪽 부분 리스트에 대해서 분할정복 수행.\n",
    "    d = min(dl, dr)     # dl과 dr 중 최솟값을 저장.\n",
    "\n",
    "    # 중간 띠 구역에 대해서 최솟값 추출.\n",
    "    pointsm = []\n",
    "    for i in range(n):\n",
    "        # 점 사이의 거리가 최소가 될 수 있는 후보를 y좌표를 기준으로 추출.\n",
    "        if abs(points_y[i][0] - mid_x) < d:\n",
    "            pointsm.append(points_y[i])\n",
    "    ds = strip_closest(pointsm, d)      # 띠 구역에 대해서 최솟값 추출.\n",
    "\n",
    "    return min(d, ds)       # 거리의 최솟값 추출 및 반환."
   ]
  },
  {
   "cell_type": "code",
   "execution_count": 33,
   "metadata": {},
   "outputs": [],
   "source": [
    "# 왼쪽 부분 리스트과 오른쪽 부분 리스트의 중간 부분의 점들의 거리 계산.\n",
    "def strip_closest(points, d):\n",
    "    n = len(points)\n",
    "    d_min = d       # 함수를 호출한 함수에서 계산한 최소 거리를 사용.\n",
    "\n",
    "    for i in range(n):\n",
    "        j = i + 1\n",
    "\n",
    "        # y 좌표를 기준으로 생각한 거리가 d_min보다 작으면 수행. (d_min의 후보)\n",
    "        # y 좌표가 오름차순 정렬되어 있으므로 모든 점에 대해 if 문을 수행하지 않고 while 문으로 대체 가능.\n",
    "        while j < n and points[j][1] - points[i][1] < d_min:\n",
    "            dij = dist(points[i], points[j])    # 실제 거리가 d_min보다 작으면 d_min 갱신.\n",
    "            if dij < d_min:\n",
    "                d_min = dij\n",
    "            j += 1\n",
    "\n",
    "    return d_min"
   ]
  },
  {
   "cell_type": "code",
   "execution_count": 34,
   "metadata": {},
   "outputs": [],
   "source": [
    "# 점 사이의 거리의 최솟값을 브루트 포싱으로 계산.\n",
    "def closest_pair(points):\n",
    "    min_d = float('inf')\n",
    "\n",
    "    # 모든 가능한 점들의 조합에 대해 거리 계산 및 최솟값 갱신.\n",
    "    for i in range(len(points)):\n",
    "        for j in range(i + 1, len(points)):\n",
    "            p1 = points[i]\n",
    "            p2 = points[j]\n",
    "\n",
    "            if p1 == p2:\n",
    "                continue\n",
    "            d = dist(p1, p2)\n",
    "            if d < min_d:\n",
    "                min_d = d\n",
    "\n",
    "    return min_d"
   ]
  },
  {
   "cell_type": "code",
   "execution_count": 35,
   "metadata": {},
   "outputs": [],
   "source": [
    "# 두 점 사이의 거리 반환.\n",
    "def dist(p1, p2):\n",
    "    dx = p2[0] - p1[0]\n",
    "    dy = p2[1] - p1[1]\n",
    "\n",
    "    return math.sqrt(dx * dx + dy * dy)"
   ]
  },
  {
   "cell_type": "code",
   "execution_count": 37,
   "metadata": {},
   "outputs": [
    {
     "name": "stdout",
     "output_type": "stream",
     "text": [
      "# closest_pair_dist의 n log n 개선.\n",
      "브루트 포싱을 이용한 방법: 1.4142135623730951\n",
      "분할정복 기법을 개선한 방법: 1.4142135623730951\n",
      "\n",
      "서로 다른 100개의 점을 추출하여 100번 수행 완료.\n"
     ]
    }
   ],
   "source": [
    "if __name__ == '__main__':\n",
    "    main()"
   ]
  }
 ],
 "metadata": {
  "interpreter": {
   "hash": "e7370f93d1d0cde622a1f8e1c04877d8463912d04d973331ad4851f04de6915a"
  },
  "kernelspec": {
   "display_name": "Python 3.10.4 64-bit",
   "language": "python",
   "name": "python3"
  },
  "language_info": {
   "codemirror_mode": {
    "name": "ipython",
    "version": 3
   },
   "file_extension": ".py",
   "mimetype": "text/x-python",
   "name": "python",
   "nbconvert_exporter": "python",
   "pygments_lexer": "ipython3",
   "version": "3.10.4"
  },
  "orig_nbformat": 4
 },
 "nbformat": 4,
 "nbformat_minor": 2
}
