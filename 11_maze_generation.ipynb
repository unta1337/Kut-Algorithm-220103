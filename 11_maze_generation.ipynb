{
 "cells": [
  {
   "cell_type": "markdown",
   "metadata": {},
   "source": [
    "##### **# DFS를 활용한 미로 생성**\n",
    "미로 렌더링의 용이를 위해 p5.js를 이용해 구현함.\n",
    "\n",
    "![maze](./11_maze.png)  \n",
    "[그림 1] 구현된 미로의 모습.\n",
    "\n",
    "[p5.js](https://editor.p5js.org/unta1337/sketches/MXZGnRthx)"
   ]
  }
 ],
 "metadata": {
  "language_info": {
   "name": "python"
  },
  "orig_nbformat": 4
 },
 "nbformat": 4,
 "nbformat_minor": 2
}
