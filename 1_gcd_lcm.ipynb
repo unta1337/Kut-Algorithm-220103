{
 "cells": [
  {
   "cell_type": "code",
   "execution_count": 1,
   "metadata": {},
   "outputs": [],
   "source": [
    "import math\n",
    "\n",
    "def lcm_(a, b):\n",
    "    return a * b // math.gcd(a, b)"
   ]
  },
  {
   "cell_type": "code",
   "execution_count": 2,
   "metadata": {},
   "outputs": [],
   "source": [
    "# 문1: 최대 공약수를 구하는 세 가지 알고리즘을 구현하여라.\n",
    "def gcd_1(a, b):\n",
    "    alist = []\n",
    "    blist = []\n",
    "\n",
    "    for i in range(1, a + 1):\n",
    "        if a % i == 0:\n",
    "            alist.append(i)\n",
    "\n",
    "    for i in range(1, b + 1):\n",
    "        if b % i == 0:\n",
    "            blist.append(i)\n",
    "\n",
    "    for i in reversed(alist):\n",
    "        if i in blist:\n",
    "            return i"
   ]
  },
  {
   "cell_type": "code",
   "execution_count": 3,
   "metadata": {},
   "outputs": [],
   "source": [
    "def gcd_2(a, b):\n",
    "    alist = []\n",
    "\n",
    "    for i in range(1, a + 1):\n",
    "        if a % i == 0:\n",
    "            alist.append(i)\n",
    "\n",
    "    for i in reversed(alist):\n",
    "        if b % i == 0:\n",
    "            return i"
   ]
  },
  {
   "cell_type": "code",
   "execution_count": 4,
   "metadata": {},
   "outputs": [],
   "source": [
    "def gcd_3(a, b):\n",
    "    i = a if a > b else b\n",
    "    j = a if a < b else b\n",
    "\n",
    "    return gcd_3_rec(i, j)\n",
    "\n",
    "def gcd_3_rec(a, b):\n",
    "    if b == 0:\n",
    "        return a\n",
    "    return gcd_3_rec(b, a % b)"
   ]
  },
  {
   "cell_type": "code",
   "execution_count": 5,
   "metadata": {},
   "outputs": [],
   "source": [
    "# 문2: 최소 공배수를 구하는 알고리즘을 구현하여라.\n",
    "def lcm(a, b):\n",
    "    gcd_ = gcd_3(a, b)\n",
    "    i = a / gcd_\n",
    "    j = b / gcd_\n",
    "\n",
    "    return gcd_ * i * j"
   ]
  },
  {
   "cell_type": "code",
   "execution_count": 6,
   "metadata": {},
   "outputs": [],
   "source": [
    "def main():\n",
    "    lim = 100\n",
    "\n",
    "    # 문1: 최대 공약수를 구하는 세 가지 알고리즘을 구현하여라.\n",
    "    for i  in range(1, lim + 1):\n",
    "        for j in range(1, lim + 1):\n",
    "            result_1 = gcd_1(i, j) == math.gcd(i, j)\n",
    "            result_2 = gcd_2(i, j) == math.gcd(i, j)\n",
    "            result_3 = gcd_3(i, j) == math.gcd(i, j)\n",
    "\n",
    "            if result_1 == False or result_2 == False or result_3 == False:\n",
    "                print(f'계산된 최대 공약수가 다릅니다. ({i}, {j}: {result_1}, {result_2}, {result_3}')\n",
    "                return\n",
    "            \n",
    "            # print(f'{i}, {j}:')\n",
    "            # print(f'\\t{result_1}')\n",
    "            # print(f'\\t{result_2}')\n",
    "            # print(f'\\t{result_2}')\n",
    "\n",
    "    # 문2: 최소 공배수를 구하는 알고리즘을 구현하여라.\n",
    "    for i  in range(1, lim + 1):\n",
    "        for j in range(1, lim + 1):\n",
    "            result = lcm(i, j) == lcm_(i, j)\n",
    "\n",
    "            if result == False:\n",
    "                print(f'계산된 최소 공배수가 다릅니다. ({i}, {j}: {result})')\n",
    "                return\n",
    "            \n",
    "            # print(f'{i}, {j}:')\n",
    "            # print(f'\\t{result}')\n",
    "\n",
    "    print(f'완료: 범위({lim})')"
   ]
  },
  {
   "cell_type": "code",
   "execution_count": 7,
   "metadata": {},
   "outputs": [
    {
     "name": "stdout",
     "output_type": "stream",
     "text": [
      "완료: 범위(100)\n"
     ]
    }
   ],
   "source": [
    "if __name__ == '__main__':\n",
    "    main()"
   ]
  }
 ],
 "metadata": {
  "interpreter": {
   "hash": "28e7252bb197b80a4c14600a7c3173048170a63593e4c62a20de20fd3f2580fc"
  },
  "kernelspec": {
   "display_name": "Python 3.10.1 64-bit",
   "language": "python",
   "name": "python3"
  },
  "language_info": {
   "codemirror_mode": {
    "name": "ipython",
    "version": 3
   },
   "file_extension": ".py",
   "mimetype": "text/x-python",
   "name": "python",
   "nbconvert_exporter": "python",
   "pygments_lexer": "ipython3",
   "version": "3.10.1"
  },
  "orig_nbformat": 4
 },
 "nbformat": 4,
 "nbformat_minor": 2
}
