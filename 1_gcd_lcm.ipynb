{
 "cells": [
  {
   "cell_type": "code",
   "execution_count": 8,
   "metadata": {},
   "outputs": [],
   "source": [
    "import math"
   ]
  },
  {
   "cell_type": "code",
   "execution_count": 9,
   "metadata": {},
   "outputs": [],
   "source": [
    "# 문1: 최대 공약수를 구하는 세 가지 알고리즘을 구현하여라.\n",
    "def gcd_1(a, b):\n",
    "    alist = []\n",
    "    blist = []\n",
    "\n",
    "    for i in range(1, a + 1):\n",
    "        if a % i == 0:\n",
    "            alist.append(i)\n",
    "\n",
    "    for i in range(1, b + 1):\n",
    "        if b % i == 0:\n",
    "            blist.append(i)\n",
    "\n",
    "    for i in reversed(alist):\n",
    "        if i in blist:\n",
    "            return i"
   ]
  },
  {
   "cell_type": "code",
   "execution_count": 10,
   "metadata": {},
   "outputs": [],
   "source": [
    "def gcd_2(a, b):\n",
    "    alist = []\n",
    "\n",
    "    for i in range(1, a + 1):\n",
    "        if a % i == 0:\n",
    "            alist.append(i)\n",
    "\n",
    "    for i in reversed(alist):\n",
    "        if b % i == 0:\n",
    "            return i"
   ]
  },
  {
   "cell_type": "code",
   "execution_count": 11,
   "metadata": {},
   "outputs": [],
   "source": [
    "def gcd_3(a, b):\n",
    "    i = a if a > b else b\n",
    "    j = a if a < b else b\n",
    "\n",
    "    return gcd_3_rec(i, j)\n",
    "\n",
    "def gcd_3_rec(a, b):\n",
    "    if b == 0:\n",
    "        return a\n",
    "    return gcd_3_rec(b, a % b)"
   ]
  },
  {
   "cell_type": "code",
   "execution_count": 12,
   "metadata": {},
   "outputs": [],
   "source": [
    "# 문2: 최소 공배수를 구하는 알고리즘을 구현하여라.\n",
    "def lcm(a, b):\n",
    "    gcd_ = gcd_3(a, b)\n",
    "    i = a / gcd_\n",
    "    j = b / gcd_\n",
    "\n",
    "    return gcd_ * i * j"
   ]
  },
  {
   "cell_type": "code",
   "execution_count": 15,
   "metadata": {},
   "outputs": [],
   "source": [
    "def main():\n",
    "    lim = 100\n",
    "\n",
    "    # 문1: 최대 공약수를 구하는 세 가지 알고리즘을 구현하여라.\n",
    "    for i  in range(1, lim + 1):\n",
    "        for j in range(1, lim + 1):\n",
    "            result_1 = gcd_1(i, j) == math.gcd(i, j)\n",
    "            result_2 = gcd_2(i, j) == math.gcd(i, j)\n",
    "            result_3 = gcd_3(i, j) == math.gcd(i, j)\n",
    "\n",
    "            if result_1 == False or result_2 == False or result_3 == False:\n",
    "                print(f'계산된 최대 공약수가 다릅니다. ({i}, {j}: {result_1}, {result_2}, {result_3}')\n",
    "                return\n",
    "            \n",
    "            # print(f'{i}, {j}:')\n",
    "            # print(f'\\t{result_1}')\n",
    "            # print(f'\\t{result_2}')\n",
    "            # print(f'\\t{result_2}')\n",
    "\n",
    "    # 문2: 최소 공배수를 구하는 알고리즘을 구현하여라.\n",
    "    for i  in range(1, lim + 1):\n",
    "        for j in range(1, lim + 1):\n",
    "            result = lcm(i, j) == math.lcm(i, j)\n",
    "\n",
    "            if result == False:\n",
    "                print(f'계산된 최소 공배수가 다릅니다. ({i}, {j}: {result})')\n",
    "                return\n",
    "            \n",
    "            # print(f'{i}, {j}:')\n",
    "            # print(f'\\t{result}')\n",
    "\n",
    "    print(f'완료: 범위({lim})')"
   ]
  },
  {
   "cell_type": "code",
   "execution_count": 14,
   "metadata": {},
   "outputs": [
    {
     "ename": "NameError",
     "evalue": "name 'false' is not defined",
     "output_type": "error",
     "traceback": [
      "\u001b[1;31m---------------------------------------------------------------------------\u001b[0m",
      "\u001b[1;31mNameError\u001b[0m                                 Traceback (most recent call last)",
      "\u001b[1;32mc:\\Users\\first\\Dev\\Kut-Algorithm-220103\\test.ipynb Cell 7'\u001b[0m in \u001b[0;36m<module>\u001b[1;34m\u001b[0m\n\u001b[0;32m      <a href='vscode-notebook-cell:/c%3A/Users/first/Dev/Kut-Algorithm-220103/test.ipynb#ch0000006?line=0'>1</a>\u001b[0m \u001b[39mif\u001b[39;00m \u001b[39m__name__\u001b[39m \u001b[39m==\u001b[39m \u001b[39m'\u001b[39m\u001b[39m__main__\u001b[39m\u001b[39m'\u001b[39m:\n\u001b[1;32m----> <a href='vscode-notebook-cell:/c%3A/Users/first/Dev/Kut-Algorithm-220103/test.ipynb#ch0000006?line=1'>2</a>\u001b[0m     main()\n",
      "\u001b[1;32mc:\\Users\\first\\Dev\\Kut-Algorithm-220103\\test.ipynb Cell 6'\u001b[0m in \u001b[0;36mmain\u001b[1;34m()\u001b[0m\n\u001b[0;32m      <a href='vscode-notebook-cell:/c%3A/Users/first/Dev/Kut-Algorithm-220103/test.ipynb#ch0000005?line=7'>8</a>\u001b[0m result_2 \u001b[39m=\u001b[39m gcd_2(i, j) \u001b[39m==\u001b[39m math\u001b[39m.\u001b[39mgcd(i, j)\n\u001b[0;32m      <a href='vscode-notebook-cell:/c%3A/Users/first/Dev/Kut-Algorithm-220103/test.ipynb#ch0000005?line=8'>9</a>\u001b[0m result_3 \u001b[39m=\u001b[39m gcd_3(i, j) \u001b[39m==\u001b[39m math\u001b[39m.\u001b[39mgcd(i, j)\n\u001b[1;32m---> <a href='vscode-notebook-cell:/c%3A/Users/first/Dev/Kut-Algorithm-220103/test.ipynb#ch0000005?line=10'>11</a>\u001b[0m \u001b[39mif\u001b[39;00m result_1 \u001b[39m==\u001b[39m false \u001b[39mor\u001b[39;00m result_2 \u001b[39m==\u001b[39m false \u001b[39mor\u001b[39;00m result_3 \u001b[39m==\u001b[39m false:\n\u001b[0;32m     <a href='vscode-notebook-cell:/c%3A/Users/first/Dev/Kut-Algorithm-220103/test.ipynb#ch0000005?line=11'>12</a>\u001b[0m     \u001b[39mprint\u001b[39m(\u001b[39mf\u001b[39m\u001b[39m'\u001b[39m\u001b[39m계산된 최대 공약수가 다릅니다. (\u001b[39m\u001b[39m{\u001b[39;00mi\u001b[39m}\u001b[39;00m\u001b[39m, \u001b[39m\u001b[39m{\u001b[39;00mj\u001b[39m}\u001b[39;00m\u001b[39m: \u001b[39m\u001b[39m{\u001b[39;00mresult_1\u001b[39m}\u001b[39;00m\u001b[39m, \u001b[39m\u001b[39m{\u001b[39;00mresult_2\u001b[39m}\u001b[39;00m\u001b[39m, \u001b[39m\u001b[39m{\u001b[39;00mresult_3\u001b[39m}\u001b[39;00m\u001b[39m'\u001b[39m)\n\u001b[0;32m     <a href='vscode-notebook-cell:/c%3A/Users/first/Dev/Kut-Algorithm-220103/test.ipynb#ch0000005?line=12'>13</a>\u001b[0m     \u001b[39mreturn\u001b[39;00m\n",
      "\u001b[1;31mNameError\u001b[0m: name 'false' is not defined"
     ]
    }
   ],
   "source": [
    "if __name__ == '__main__':\n",
    "    main()"
   ]
  },
  {
   "cell_type": "code",
   "execution_count": null,
   "metadata": {},
   "outputs": [],
   "source": []
  }
 ],
 "metadata": {
  "interpreter": {
   "hash": "28e7252bb197b80a4c14600a7c3173048170a63593e4c62a20de20fd3f2580fc"
  },
  "kernelspec": {
   "display_name": "Python 3.10.1 64-bit",
   "language": "python",
   "name": "python3"
  },
  "language_info": {
   "codemirror_mode": {
    "name": "ipython",
    "version": 3
   },
   "file_extension": ".py",
   "mimetype": "text/x-python",
   "name": "python",
   "nbconvert_exporter": "python",
   "pygments_lexer": "ipython3",
   "version": "3.10.1"
  },
  "orig_nbformat": 4
 },
 "nbformat": 4,
 "nbformat_minor": 2
}
