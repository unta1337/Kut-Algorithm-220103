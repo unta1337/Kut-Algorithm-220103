{
 "cells": [
  {
   "cell_type": "code",
   "execution_count": 16,
   "metadata": {},
   "outputs": [],
   "source": [
    "# 브루트 포싱 역전 카운팅 알고리즘.\n",
    "def inverse_count(lst):\n",
    "    count = 0\n",
    "\n",
    "    # 모든 가능한 조합에 대해서 수행.\n",
    "    for i in range(len(lst)):\n",
    "        for j in range(i + 1, len(lst)):\n",
    "            # 두 원소가 역전된 관계이면 count++\n",
    "            if i != j and lst[i] > lst[j]:\n",
    "                count += 1\n",
    "    return count"
   ]
  },
  {
   "cell_type": "code",
   "execution_count": 17,
   "metadata": {},
   "outputs": [],
   "source": [
    "# 분할정복 역전 카운팅 알고리즘을 설계하기 위한 분할정복 정렬 알고리즘 설계.\n",
    "\n",
    "# 병합정렬의 인수 단순화를 위한 함수.\n",
    "def msort(lst):\n",
    "    __msort(lst, 0, len(lst) - 1)\n",
    "\n",
    "# 병합정렬 주요 로직.\n",
    "def __msort(lst, left, right):\n",
    "    # 전달된 서브 리스트의 범위가 유효할 때 수행.\n",
    "    if left < right:\n",
    "        middle = (left + right) // 2                # 리스트의 중간 인덱스.\n",
    "        __msort(lst, left, middle)                  # 좌측 서브 리스트에 대해 재귀적으로 수행.\n",
    "        __msort(lst, middle + 1, right)             # 우측 서브 리스트에 대해 재귀적으로 수행.\n",
    "        __msort_merge(lst, left, right, middle)     # 좌측 서브 리스트와 우측 서브 리스트 병합.\n",
    "\n",
    "def __msort_merge(lst, left, right, middle):\n",
    "    # 사용되는 인덱스 포인터 변수 설정.\n",
    "    l = left            # 좌측 서브 리스트\n",
    "    r = middle + 1      # 우측 서브 리스트\n",
    "\n",
    "    # 정렬된 배열을 저장할 보조 리스트.\n",
    "    sorted = []\n",
    "\n",
    "    # 죄측 인덱스와 우측 인덱스 모두 유효할 때 수행.\n",
    "    while l <= middle and r <= right:\n",
    "        # 최측 인덱스가 적절한 원소를 갖고 있으면 이를 보조 리스트에 복사.\n",
    "        if lst[l] < lst[r]:\n",
    "            sorted.append(lst[l])\n",
    "            l += 1\n",
    "\n",
    "        # 우측 인덱스가 적절한 원소를 갖고 있으면 이를 보조 리스트에 복사.\n",
    "        else:\n",
    "            sorted.append(lst[r])\n",
    "            r += 1\n",
    "\n",
    "    # 남은 서브 리스트에 잔존하는 원소 복사.\n",
    "    if (l > middle):\n",
    "        while (r <= right):\n",
    "            sorted.append(lst[r])\n",
    "            r += 1\n",
    "    else:\n",
    "        while (l <= middle):\n",
    "            sorted.append(lst[l])\n",
    "            l += 1\n",
    "\n",
    "    # 정렬된 보조 리스트를 메인 리스트에 반영.\n",
    "    lst[left:right + 1] = sorted"
   ]
  },
  {
   "cell_type": "code",
   "execution_count": 18,
   "metadata": {},
   "outputs": [],
   "source": [
    "# 분할정복 정렬 알고리즘을 이용한 분할정복 역전 카운팅 알고리즘.\n",
    "def msort_inverse_count(lst):\n",
    "    return __msort_inverse_count(lst.copy(), 0, len(lst) - 1)    # 역전된 원소의 개수를 반환하므로 return 사용.\n",
    "\n",
    "def __msort_inverse_count(lst, left, right):\n",
    "    if left < right:\n",
    "        middle = (left + right) // 2\n",
    "        left_count = __msort_inverse_count(lst, left, middle)\n",
    "        right_count = __msort_inverse_count(lst, middle + 1, right)\n",
    "        merge_count = __msort_inverse_count_merge(lst, left, right, middle)\n",
    "        return left_count + right_count + merge_count            # 서브 리스트의 역전 원소의 개수까지 취합하여 반환.\n",
    "\n",
    "    # 범위가 올바르지 않으면 역전된 원소를 정의할 수 없으므로 0 반환.\n",
    "    return 0\n",
    "\n",
    "def __msort_inverse_count_merge(lst, left, right, middle):\n",
    "    l = left\n",
    "    r = middle + 1\n",
    "\n",
    "    count = 0\n",
    "\n",
    "    sorted = []\n",
    "    while l <= middle and r <= right:\n",
    "        # 정렬된 상태라면 죄측 서브 리스트의 현재 원소가 우특 서브 리스트의 현재 원소보다 작아야 함.\n",
    "        # 따라서 우측 서브 리스트 원소의 크기가 작으면 역전 원소의 개수 증가.\n",
    "        if lst[l] <= lst[r]:\n",
    "            sorted.append(lst[l])\n",
    "            l += 1\n",
    "        else:\n",
    "            sorted.append(lst[r])\n",
    "            r += 1\n",
    "\n",
    "            # 양 서브 리스트는 정렬된 상태이므로 좌측 서브 리스트의 모든 원소가 우측 서브 리스트의 현재 원소보다 크다는 의미.\n",
    "            # 우측 서브 리스트의 현재 원소는 좌측 서브 리스트의 모든 원소에 대해 역전됨.\n",
    "            count += middle - l + 1 \n",
    "\n",
    "    if (l > middle):\n",
    "        while (r <= right):\n",
    "            sorted.append(lst[r])\n",
    "            r += 1\n",
    "    else:\n",
    "        while (l <= middle):\n",
    "            sorted.append(lst[l])\n",
    "            l += 1\n",
    "\n",
    "    lst[left:right + 1] = sorted\n",
    "    return count"
   ]
  },
  {
   "cell_type": "code",
   "execution_count": 23,
   "metadata": {},
   "outputs": [],
   "source": [
    "import random\n",
    "\n",
    "def main():\n",
    "    arr = [i for i in range(10)] * 2\n",
    "    arr.sort(key = lambda e: random.random() < 0.5)\n",
    "\n",
    "    print(arr)\n",
    "    print(inverse_count(arr))\n",
    "    print(msort_inverse_count(arr))"
   ]
  },
  {
   "cell_type": "code",
   "execution_count": 24,
   "metadata": {},
   "outputs": [
    {
     "name": "stdout",
     "output_type": "stream",
     "text": [
      "[0, 1, 3, 5, 6, 9, 1, 3, 5, 9, 2, 4, 7, 8, 0, 2, 4, 6, 7, 8]\n",
      "64\n",
      "64\n"
     ]
    }
   ],
   "source": [
    "if __name__ == '__main__':\n",
    "    main()"
   ]
  },
  {
   "cell_type": "code",
   "execution_count": null,
   "metadata": {},
   "outputs": [],
   "source": []
  }
 ],
 "metadata": {
  "interpreter": {
   "hash": "e7370f93d1d0cde622a1f8e1c04877d8463912d04d973331ad4851f04de6915a"
  },
  "kernelspec": {
   "display_name": "Python 3.9.2 64-bit",
   "language": "python",
   "name": "python3"
  },
  "language_info": {
   "codemirror_mode": {
    "name": "ipython",
    "version": 3
   },
   "file_extension": ".py",
   "mimetype": "text/x-python",
   "name": "python",
   "nbconvert_exporter": "python",
   "pygments_lexer": "ipython3",
   "version": "3.9.2"
  },
  "orig_nbformat": 4
 },
 "nbformat": 4,
 "nbformat_minor": 2
}
