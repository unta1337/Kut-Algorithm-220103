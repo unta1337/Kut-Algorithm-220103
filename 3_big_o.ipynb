{
 "cells": [
  {
   "cell_type": "markdown",
   "metadata": {},
   "source": [
    "\\# 1. 교재 연습문제 20번 중 2개 이상 (p. 96)\n",
    "\n",
    "\\# 1-1\n",
    "$$T(N) = T(N - 1) + 3 = T(N - 1) + 3 *1 \\\\  \n",
    "       = T(N - 2) + 3 + 3 = T(N -2) + 3 * 2 \\\\  \n",
    "       ... \\\\  \n",
    "       = T(N - M) + 3 * M \\\\  \n",
    "       ... \\\\  \n",
    "       = T(1) + 3(N - 1) \\\\  \n",
    "       = 0 + 3n - 3 \\\\  \n",
    "       => O(N)$$"
   ]
  },
  {
   "cell_type": "markdown",
   "metadata": {},
   "source": [
    "\\# 1-2\n",
    "$$T(N) = 2 * T(N - 1) = 2^1T(N - 1) \\\\\n",
    "= 2 * 2 * T(N - 2) = 2^2T(N - 2) \\\\\n",
    "... \\\\\n",
    "= 2^MT(N - M) \\\\\n",
    "... \\\\\n",
    "= 2^{N - 1}T(1) \\\\\n",
    "= 2^{N - 1}*4 = 2^{N + 1} \\\\\n",
    "=> O(2^N)$$"
   ]
  },
  {
   "cell_type": "markdown",
   "metadata": {},
   "source": [
    "\\# 1-3\n",
    "$$T(N) = T(N - 1) + N \\\\\n",
    "= T(N - 2) + (N - 1) + N \\\\\n",
    "... \\\\\n",
    "= T(N - M) + \\sum_{K = 0}^{M - 1}(N - K) \\\\\n",
    "... \\\\\n",
    "= T(0) + \\sum_{K = 0}^{N - 1}(N - K) \\\\\n",
    "= \\sum_{K = 0}^{N - 1}(N - K) \\\\\n",
    "= \\sum_{K = 0}^{N - 1}N - \\sum_{K = 0}^{N - 1}K \\\\\n",
    "= N^2 - \\sum_{K = 1}^N(K - 1) \\\\\n",
    "= N^2 - \\frac{N(N +1)}{2} + N \\\\\n",
    "=> O(N^2)$$"
   ]
  },
  {
   "cell_type": "markdown",
   "metadata": {},
   "source": [
    "\\# 2. 교재 연습문제 21번 (p. 96)\n",
    "\n",
    "\\# 2-1\n",
    "순환 관계식:  \n",
    "$$T(N) = T(N - 1) + P(N)$$\n",
    "단, P(N)은 T(N)에서 순환 호출을 제외한 연산의 비용.\n",
    "\n",
    "N이 1이면 함수는 1을 반환한다.  \n",
    "N이 2이면 함수는 T(1)에 2 * N - 1 = 3을 더하여 반환한다.  \n",
    "N이 3이면 함수는 T(2)에 2 * N - 1 = 5을 더하여 반환한다.  \n",
    "위의 귀납적인 접근과 더불어, 뒤에 오는 식인 2 * N - 1을 살펴보면,  \n",
    "해당 식은 1부터 시작하여 N번째 홀수까지의 합을 구하는 알고리즘임을 알 수 있다.\n",
    "즉,  \n",
    "$$\\sum_{k = 1}^{n}{2n - 1}$$"
   ]
  },
  {
   "cell_type": "markdown",
   "metadata": {},
   "source": [
    "\\# 2-2\n",
    "$$T(N) = T(N - 1) + 3$$\n",
    "기본 연산이 곱셈이므로 +, -, *연산의 비용을 1로 가정할 수 있다.  \n",
    "따라서, mystery3(n-1)의 순환 호출과 더불어 뒤에 오는 +, *, -의 연산 횟수 3을 더해주면 된다.\n",
    "\n",
    "위의 관계식을 통해 시간 복잡도를 구해보면,\n",
    "\n",
    "먼저 T(1)은 연산없이 1을 바로 반환하므로 T(1) = 0이다.  \n",
    "$$T(N) = T(N - 1) + 3 = T(N - 1) + 3 *1 \\\\\n",
    "       = T(N - 2) + 3 + 3 = T(N -2) + 3 * 2 \\\\\n",
    "       ... \\\\\n",
    "       = T(N - M) + 3 * M \\\\\n",
    "       ... \\\\\n",
    "       = T(1) + 3(N - 1) \\\\\n",
    "       = 0 + 3n - 3 \\\\\n",
    "       => O(N)$$"
   ]
  },
  {
   "cell_type": "markdown",
   "metadata": {},
   "source": [
    "\\# 2-3\n",
    "$$T(N) = T(N - 1) + P(N)$$\n",
    "P(N)은 +, -, * 연산을 포함하고 있다.  \n",
    "이때, +, -가 각각 하나씩 있으므로 이를 기본연산으로 취급, P(N) = 2 + P'(N)으로 바꾸어 쓸 수 있다.  \n",
    "\n",
    "P'(N)은 곱셈에 대한 시간 복잡도로 2 * N 연산의 시간 복잡도를 구하면 된다.  \n",
    "곱셈의 정의에 의해,\n",
    "$$2 * N = \\sum_{k = 1}^{N}2$$\n",
    "즉, 2를 N번 더하므로 기본연산인 덧셈을 총 N번 수행한다.  \n",
    "따라서,  \n",
    "$$P(N) = 2 + P'(N) = 2 + N$$\n",
    "\n",
    "이를 정리하면,  \n",
    "$$T(N) = T(N - 1) + N + 3$$\n",
    "\n",
    "위의 관계식을 통해 시간 복잡도를 구해보면,\n",
    "\n",
    "먼저 T(1)은 연산없이 1을 바로 반환하므로 T(1) = 0이다.  \n",
    "$$T(N) = T(N - 1) + N + 3 \\\\\n",
    "= T(N - 2) + (N - 1) + N + 3 \\\\\n",
    "... \\\\\n",
    "= T(N - M) + \\sum_{K = 0}^{M - 1}(N - K) + 3 \\\\\n",
    "... \\\\\n",
    "= T(0) + \\sum_{K = 0}^{N - 1}(N - K) + 3 \\\\\n",
    "= \\sum_{K = 0}^{N - 1}(N - K) + 3 \\\\\n",
    "= \\sum_{K = 0}^{N - 1}N - \\sum_{K = 0}^{N - 1}K + 3 \\\\\n",
    "= N^2 - \\sum_{K = 1}^N(K - 1) + 3 \\\\\n",
    "= N^2 - \\frac{N(N +1)}{2} + N + 3 \\\\\n",
    "=> O(N^2)$$"
   ]
  },
  {
   "cell_type": "code",
   "execution_count": 3,
   "metadata": {},
   "outputs": [],
   "source": [
    "import random as rand"
   ]
  },
  {
   "cell_type": "code",
   "execution_count": 21,
   "metadata": {},
   "outputs": [],
   "source": [
    "# 3. 교재 연습문제 5번 (p. 133)\n",
    "\n",
    "# 구슬의 우선순위를 확인하기 위한 함수.\n",
    "# 흰 구슬이 더 높은 우선순위를 갖는다.\n",
    "# (숫자가 높은 것이 우선순위가 높음)\n",
    "def get_marble_priority(marble):\n",
    "    return 1 if marble == 'white' else 0\n",
    "\n",
    "# 인접한 두 구슬을 비교해보면서, 우선순위가 어긋나면 그 둘을 교환한다.\n",
    "def marble_sort(marbles):\n",
    "    for i in range(len(marbles) - 1):\n",
    "        for j in range(1, len(marbles)):\n",
    "            if get_marble_priority(marbles[j - 1]) < get_marble_priority(marbles[j]):\n",
    "                marbles[j - 1], marbles[j] = marbles[j], marbles[j - 1]\n",
    "                print(f'Marbles: {marbles}')\n",
    "    \n",
    "    return marbles\n",
    "\n",
    "# N의 길이를 갖는 무작위 구슬 배열을 반환.\n",
    "def get_random_marbles(N):\n",
    "    marbles = []\n",
    "\n",
    "    # 0.5의 확률로 각각 흰 구슬과 검은 구슬을 삽입.\n",
    "    for _ in range(N):\n",
    "        if rand.random() < 0.5:\n",
    "            marbles.append('white')\n",
    "        else:\n",
    "            marbles.append('black')\n",
    "\n",
    "    return marbles"
   ]
  },
  {
   "cell_type": "code",
   "execution_count": 26,
   "metadata": {},
   "outputs": [],
   "source": [
    "def main():\n",
    "    # 3. 교재 연습문제 5번 (p. 133)\n",
    "    marbles = get_random_marbles(int(input()))\n",
    "\n",
    "    print('Before Sorting:')\n",
    "    for marble in marbles:\n",
    "        print(f'Current marble is {marble}')\n",
    "    print()\n",
    "    \n",
    "    marbles = marble_sort(marbles)\n",
    "\n",
    "    print('\\nAfter Sorting:')\n",
    "    for marble in marbles:\n",
    "        print(f'Current marble is {marble}')"
   ]
  },
  {
   "cell_type": "code",
   "execution_count": 27,
   "metadata": {},
   "outputs": [
    {
     "name": "stdout",
     "output_type": "stream",
     "text": [
      "Before Sorting:\n",
      "Current marble is black\n",
      "Current marble is white\n",
      "Current marble is white\n",
      "Current marble is white\n",
      "Current marble is black\n",
      "Current marble is black\n",
      "Current marble is black\n",
      "Current marble is black\n",
      "Current marble is black\n",
      "Current marble is black\n",
      "\n",
      "After Sorting:\n",
      "Current marble is white\n",
      "Current marble is white\n",
      "Current marble is white\n",
      "Current marble is black\n",
      "Current marble is black\n",
      "Current marble is black\n",
      "Current marble is black\n",
      "Current marble is black\n",
      "Current marble is black\n",
      "Current marble is black\n"
     ]
    }
   ],
   "source": [
    "if __name__ == '__main__':\n",
    "    main()"
   ]
  }
 ],
 "metadata": {
  "interpreter": {
   "hash": "28e7252bb197b80a4c14600a7c3173048170a63593e4c62a20de20fd3f2580fc"
  },
  "kernelspec": {
   "display_name": "Python 3.10.1 64-bit",
   "language": "python",
   "name": "python3"
  },
  "language_info": {
   "codemirror_mode": {
    "name": "ipython",
    "version": 3
   },
   "file_extension": ".py",
   "mimetype": "text/x-python",
   "name": "python",
   "nbconvert_exporter": "python",
   "pygments_lexer": "ipython3",
   "version": "3.10.1"
  },
  "orig_nbformat": 4
 },
 "nbformat": 4,
 "nbformat_minor": 2
}
